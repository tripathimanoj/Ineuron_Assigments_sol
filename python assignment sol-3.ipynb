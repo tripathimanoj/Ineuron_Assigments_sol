{
 "cells": [
  {
   "cell_type": "markdown",
   "id": "be27e562",
   "metadata": {},
   "source": [
    "1.1 Write a Python Program to implement your own myreduce() function which works exactly\n",
    "like Python's built-in function reduce()"
   ]
  },
  {
   "cell_type": "code",
   "execution_count": 21,
   "id": "af93bd01",
   "metadata": {},
   "outputs": [
    {
     "name": "stdout",
     "output_type": "stream",
     "text": [
      "Input:\n",
      "Please insert the number :100\n",
      "Output:\n",
      "List of first n even numbers are: [2, 4, 6, 8, 10, 12, 14, 16, 18, 20, 22, 24, 26, 28, 30, 32, 34, 36, 38, 40, 42, 44, 46, 48, 50, 52, 54, 56, 58, 60, 62, 64, 66, 68, 70, 72, 74, 76, 78, 80, 82, 84, 86, 88, 90, 92, 94, 96, 98, 100]\n",
      "\n",
      "sum of elements are : 2550\n"
     ]
    }
   ],
   "source": [
    "def myreduce(num):\n",
    "    ''' This function will return sum of n even numbers'''\n",
    "    num_list=list(range(1,number+1))\n",
    "    num_list_even=[]\n",
    "    for i in num_list:\n",
    "        if i%2==0:\n",
    "            num_list_even.append(i)\n",
    "    sum_of_elements=0\n",
    "    \n",
    "    for i in num_list_even:\n",
    "        sum_of_elements+=i\n",
    "        \n",
    "    return num_list_even,sum_of_elements\n",
    "\n",
    "print(\"Input:\")\n",
    "number=int(input(\"Please insert the number :\"))\n",
    "\n",
    "output=myreduce(number)\n",
    "\n",
    "print(\"Output:\")\n",
    "print(\"List of first n even numbers are:\",output[0])\n",
    "print(\"\\nsum of elements are :\",output[1])  "
   ]
  },
  {
   "cell_type": "code",
   "execution_count": null,
   "id": "428cf495",
   "metadata": {},
   "outputs": [],
   "source": []
  },
  {
   "cell_type": "markdown",
   "id": "92c1d15a",
   "metadata": {},
   "source": [
    "1.2 Write a Python program to implement your own myfilter() function which works exactly\n",
    "like Python's built-in function filter()"
   ]
  },
  {
   "cell_type": "code",
   "execution_count": 22,
   "id": "a3e4b1e6",
   "metadata": {},
   "outputs": [
    {
     "name": "stdout",
     "output_type": "stream",
     "text": [
      "insert the number: 100\n",
      "Output:\n",
      "List of numbers: [1, 2, 3, 4, 5, 6, 7, 8, 9, 10, 11, 12, 13, 14, 15, 16, 17, 18, 19, 20, 21, 22, 23, 24, 25, 26, 27, 28, 29, 30, 31, 32, 33, 34, 35, 36, 37, 38, 39, 40, 41, 42, 43, 44, 45, 46, 47, 48, 49, 50, 51, 52, 53, 54, 55, 56, 57, 58, 59, 60, 61, 62, 63, 64, 65, 66, 67, 68, 69, 70, 71, 72, 73, 74, 75, 76, 77, 78, 79, 80, 81, 82, 83, 84, 85, 86, 87, 88, 89, 90, 91, 92, 93, 94, 95, 96, 97, 98, 99, 100]\n",
      "\n",
      "Even numbers which are multiples of 7 : [14, 28, 42, 56, 70, 84, 98]\n",
      "\n",
      "Odd numbers which are multiples of 7 : [7, 21, 35, 49, 63, 77, 91]\n"
     ]
    }
   ],
   "source": [
    "def myfilter(num_list):\n",
    "    '''\n",
    "    This function will filter even and odd numbers from list which are multiples of 7\n",
    "    '''\n",
    "    num_even_list=[]\n",
    "    num_odd_list=[]\n",
    "    \n",
    "    for i in num_list:\n",
    "        if(i%7==0):\n",
    "            if(i%2==0):\n",
    "                num_even_list.append(i)\n",
    "            else:\n",
    "                num_odd_list.append(i)\n",
    "                \n",
    "    return num_even_list,num_odd_list\n",
    "\n",
    "\n",
    "number=int(input(\"insert the number: \"))\n",
    "num_list=list(range(1,number+1))\n",
    "\n",
    "output=myfilter(num_list)\n",
    "\n",
    "print(\"Output:\")\n",
    "print(\"List of numbers:\",num_list)\n",
    "print(\"\\nEven numbers which are multiples of 7 :\",output[0])\n",
    "print(\"\\nOdd numbers which are multiples of 7 :\",output[1])"
   ]
  },
  {
   "cell_type": "code",
   "execution_count": null,
   "id": "007502d1",
   "metadata": {},
   "outputs": [],
   "source": []
  },
  {
   "cell_type": "markdown",
   "id": "5a267749",
   "metadata": {},
   "source": [
    "2. Implement List comprehensions to produce the following lists.\n",
    "Write List comprehensions to produce the following Lists\n",
    "['A', 'C', 'A', 'D', 'G', 'I', ’L’, ‘ D’]\n",
    "['x', 'xx', 'xxx', 'xxxx', 'y', 'yy', 'yyy', 'yyyy', 'z', 'zz', 'zzz', 'zzzz']\n",
    "['x', 'y', 'z', 'xx', 'yy', 'zz', 'xxx', 'yyy', 'zzz', 'xxxx', 'yyyy', 'zzzz']\n",
    "[[2], [3], [4], [3], [4], [5], [4], [5], [6]] [[2, 3, 4, 5], [3, 4, 5, 6],\n",
    "[4, 5, 6, 7], [5, 6, 7, 8]]\n",
    "[(1, 1), (2, 1), (3, 1), (1, 2), (2, 2), (3, 2), (1, 3), (2, 3), (3, 3)]"
   ]
  },
  {
   "cell_type": "code",
   "execution_count": 23,
   "id": "3231e2a0",
   "metadata": {},
   "outputs": [
    {
     "name": "stdout",
     "output_type": "stream",
     "text": [
      "Output:\n",
      "['A', 'C', 'A', 'D', 'G', 'I', 'L', 'D']\n",
      "['x', 'xx', 'xxx', 'xxxx', 'y', 'yy', 'yyy', 'yyyy', 'z', 'zz', 'zzz', 'zzzz']\n",
      "['x', 'y', 'z', 'xx', 'yy', 'zz', 'xxx', 'yyy', 'zzz', 'xxxx', 'yyyy', 'zzzz']\n",
      "[[2], [3], [4], [3], [4], [5], [4], [5], [6]]\n",
      "[[2, 3, 4, 5], [3, 4, 5, 6], [4, 5, 6, 7], [5, 6, 7, 8]]\n",
      "[(1, 1), (2, 1), (3, 1), (1, 2), (2, 2), (3, 2), (1, 3), (2, 3), (3, 3)]\n"
     ]
    }
   ],
   "source": [
    "word=\"acadgild\"\n",
    "output_list=[w.upper() for w in list(word)]\n",
    "print(\"Output:\")\n",
    "print(output_list)\n",
    "\n",
    "word_1=list('xyz')\n",
    "word_2=[x*n for x in word_1 for n in range(1,5) ]\n",
    "print(word_2)\n",
    "\n",
    "word_3=[x*n for n in range(1,5) for x in word_1 ]\n",
    "print(word_3)\n",
    "\n",
    "number=[2,3,4]\n",
    "number_1=[[x+n] for x in number for n in range(0,3)]\n",
    "print(number_1)\n",
    "\n",
    "number_2=[2,3,4,5]\n",
    "number_3=[[x+n for n in range(0,4)] for x in number_2 ]\n",
    "print(number_3)\n",
    "\n",
    "number_4=[1,2,3]\n",
    "number_5= [(b,a) for a in number_4 for b in number_4]\n",
    "print(number_5)"
   ]
  },
  {
   "cell_type": "code",
   "execution_count": null,
   "id": "68616da1",
   "metadata": {},
   "outputs": [],
   "source": []
  }
 ],
 "metadata": {
  "kernelspec": {
   "display_name": "Python 3 (ipykernel)",
   "language": "python",
   "name": "python3"
  },
  "language_info": {
   "codemirror_mode": {
    "name": "ipython",
    "version": 3
   },
   "file_extension": ".py",
   "mimetype": "text/x-python",
   "name": "python",
   "nbconvert_exporter": "python",
   "pygments_lexer": "ipython3",
   "version": "3.9.7"
  }
 },
 "nbformat": 4,
 "nbformat_minor": 5
}
